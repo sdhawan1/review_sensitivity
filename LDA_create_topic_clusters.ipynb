{
 "metadata": {
  "name": ""
 },
 "nbformat": 3,
 "nbformat_minor": 0,
 "worksheets": [
  {
   "cells": [
    {
     "cell_type": "code",
     "collapsed": false,
     "input": [
      "#Here, try to experiment with using LDA to cluster words into topics. See how well it works; if it works well, \n",
      "# this can be a great tool to cluster the best words that I found in the 2000 movie reviews\n",
      "\n",
      "import numpy\n",
      "import lda\n",
      "import os\n",
      "\n",
      "#perform some initial analysis on the negative review dataset. [OUTDATED: need to do lda by author, not review.]\n",
      "\"\"\"\n",
      "path = os.path.abspath(os.path.join(os.getcwd(),\"..\"))\n",
      "negpath = path + \"/data/text_only_reviews/txt_sentoken/neg/\"\n",
      "pospath = path + \"/data/text_only_reviews/txt_sentoken/pos/\"\n",
      "\n",
      "alltokens = []\n",
      "negfilenames = os.listdir(negpath)\n",
      "posfilenames = os.listdir(pospath)\n",
      "i = 0\n",
      "\"\"\"\n",
      "\n",
      "#get the indices of authors with the right number of reviews.\n",
      "f = open(\"generated_data/revspercritic\", \"r\")\n",
      "index = 0\n",
      "rev_inds = []\n",
      "revind_order = {}\n",
      "revno = 0\n",
      "for line in f:\n",
      "    index += 1\n",
      "    numrevs = int(line)\n",
      "    if (numrevs >= 10) and (numrevs <= 200):\n",
      "        rev_inds = rev_inds + [index]\n",
      "        revind_order[index] = revno\n",
      "        revno += 1\n",
      "#filenames = os.listdir(\"./reviewerdata\")       \n",
      "        \n",
      "\n",
      "#first, get the vocab tokens I will be using\n",
      "#NOTE: 392 words have been approved.\n",
      "f = open(\"freq_topic_words_mod\")\n",
      "i = 0\n",
      "topicwords = []\n",
      "for line in f:\n",
      "    i += 1\n",
      "    if i > 392:\n",
      "        break\n",
      "    linearr = line.split()\n",
      "    topicwords += [linearr[0]]\n",
      "\n",
      "#create a dictionary that maps words to their indices.\n",
      "wordtoind = {}\n",
      "for i in range(392):\n",
      "    wordtoind = dict(zip(topicwords, range(392)))"
     ],
     "language": "python",
     "metadata": {},
     "outputs": [],
     "prompt_number": 36
    },
    {
     "cell_type": "code",
     "collapsed": false,
     "input": [
      "import nltk\n",
      "from nltk.probability import FreqDist\n",
      "import numpy\n",
      "\n",
      "#it goes: num_documents, then vocab size.\n",
      "#this is data structure we need to set up to work with the LDA package in Python.\n",
      "words_freqs = numpy.ndarray((199, 392), dtype = int)\n",
      "\n",
      "#for every review, create an index of frequencies of approved words\n",
      "#[DEPRECATED: NEED TO DO LDA BY AUTHOR, NOT BY REVIEW.]\n",
      "\"\"\"\n",
      "fileno = 0\n",
      "for rev in negfilenames:\n",
      "    f = open(negpath + rev)\n",
      "    fd = FreqDist(nltk.word_tokenize(f.read()))\n",
      "    for word in wordtoind:\n",
      "        words_freqs[fileno, wordtoind[word]] = fd[word]\n",
      "    fileno += 1\n",
      "    \n",
      "for rev in posfilenames:\n",
      "    f = open(pospath + rev)\n",
      "    fd = FreqDist(nltk.word_tokenize(f.read()))\n",
      "    for word in wordtoind:\n",
      "        words_freqs[fileno, wordtoind[word]] = fd[word]\n",
      "    fileno += 1\n",
      "\"\"\"\n",
      "\n",
      "#Go through all the authors that have the right number of reviews, and prepare data for LDA\n",
      "fileno = 0\n",
      "for ind in rev_inds:\n",
      "    revfile = open(\"./reviewerdata/reviewers\" + str(ind))\n",
      "    fd = FreqDist(nltk.word_tokenize(revfile.read()))\n",
      "    for word in wordtoind:\n",
      "        words_freqs[fileno, wordtoind[word]] = fd[word]\n",
      "    fileno += 1\n",
      "    \n"
     ],
     "language": "python",
     "metadata": {},
     "outputs": [],
     "prompt_number": 7
    },
    {
     "cell_type": "code",
     "collapsed": false,
     "input": [
      "import lda\n",
      "import numpy\n",
      "import lda.datasets\n",
      "\n",
      "#fit the lda model\n",
      "model = lda.LDA(n_topics=10, n_iter = 500)\n",
      "model.fit(words_freqs)\n",
      "\n",
      "#X = lda.datasets.load_reuters()\n",
      "#print X[2]\n",
      "#vocab = lda.datasets.load_reuters_vocab()\n",
      "#print len(X[1])"
     ],
     "language": "python",
     "metadata": {},
     "outputs": [
      {
       "output_type": "stream",
       "stream": "stderr",
       "text": [
        "WARNING:lda:all zero column in document-term matrix found\n"
       ]
      },
      {
       "metadata": {},
       "output_type": "pyout",
       "prompt_number": 8,
       "text": [
        "<lda.lda.LDA instance at 0x7fc7f9695098>"
       ]
      }
     ],
     "prompt_number": 8
    },
    {
     "cell_type": "code",
     "collapsed": false,
     "input": [
      "#######################################################################################\n",
      "# THE NEXT FEW CELLS ARE FOR CATALOGUING STATISTICS ABOUT THE JUST-MADE LDA CLUSTERS\n",
      "#######################################################################################\n",
      "\n",
      "topic_word = model.topic_word_\n",
      "print(\"type(topic_word): {}\".format(type(topic_word)))\n",
      "print(\"shape: {}\".format(topic_word.shape))\n",
      "\n",
      "for n in range(5):\n",
      "    sum_pr = sum(topic_word[n,:])\n",
      "    print(\"topic: {} sum: {}\".format(n, sum_pr))\n",
      "\n",
      "print \"words:\"\n",
      "    \n",
      "n = 10\n",
      "for i, topic_dist in enumerate(topic_word):\n",
      "    topic_words = numpy.array(topicwords)[numpy.argsort(topic_dist)][:-(n+1):-1]\n",
      "    print('*Topic {}\\n- {}'.format(i, ' '.join(topic_words)))\n",
      "    \n",
      "#initial thoughts about results: seems to be at least some confounding factors dictated by the genre of the movie?\n",
      "#perhaps I can group reviews together some other way (i.e. by author) BEFORE LDA in order to avoid this..."
     ],
     "language": "python",
     "metadata": {},
     "outputs": [
      {
       "output_type": "stream",
       "stream": "stdout",
       "text": [
        "type(topic_word): <type 'numpy.ndarray'>\n",
        "shape: (10, 392)\n",
        "topic: 0 sum: 1.0\n",
        "topic: 1 sum: 1.0\n",
        "topic: 2 sum: 1.0\n",
        "topic: 3 sum: 1.0\n",
        "topic: 4 sum: 1.0\n",
        "words:\n",
        "*Topic 0\n",
        "- director story directed screen novel tale cinema lives screenplay visual\n",
        "*Topic 1\n",
        "- performance cast script role plays character performances screenplay actors actor\n",
        "*Topic 2\n",
        "- characters character scenes dialogue moments entertaining stars interesting audience scene\n",
        "*Topic 3\n",
        "- character performance played scenes cast scene actors plays stars acting\n",
        "*Topic 4\n",
        "- story interesting characters humor funny lives comedy documentary dialog photography\n",
        "*Topic 5\n",
        "- comedy funny character humor fun characters laughs dialogue romantic played\n",
        "*Topic 6\n",
        "- horror effects original audience plot sequel gore cast scary camera\n",
        "*Topic 7\n",
        "- plot story scenes funny scene fun script plays evil interesting\n",
        "*Topic 8\n",
        "- plot story character audience acting characters original effects director cast\n",
        "*Topic 9\n",
        "- scene character characters scenes played story moments audience sequence plays\n"
       ]
      }
     ],
     "prompt_number": 9
    },
    {
     "cell_type": "code",
     "collapsed": false,
     "input": [
      "#figure out the distribution of topics for a large set of documents\n",
      "import matplotlib.pyplot as plt\n",
      "\n",
      "doc_topic = model.doc_topic_\n",
      "f, ax= plt.subplots(5, 1, figsize=(8, 6), sharex=True)\n",
      "for i, k in enumerate(range(10, 15)):\n",
      "    ax[i].stem(doc_topic[k,:], linefmt='r-',\n",
      "               markerfmt='ro', basefmt='w-')\n",
      "    ax[i].set_xlim(-1, 11)\n",
      "    ax[i].set_ylim(0, 1)\n",
      "    ax[i].set_ylabel(\"Prob\")\n",
      "    ax[i].set_title(\"Document {}\".format(k))\n",
      "\n",
      "ax[4].set_xlabel(\"Topic\")\n",
      "\n",
      "plt.tight_layout()\n",
      "plt.show()"
     ],
     "language": "python",
     "metadata": {},
     "outputs": [],
     "prompt_number": 10
    },
    {
     "cell_type": "code",
     "collapsed": false,
     "input": [
      "#plot distribution of words in topics.\n",
      "#observations: this is quite high for a few topics and a few words within them. Is this bad? (Hopefully not)\n",
      "f, ax= plt.subplots(5, 1, figsize=(8, 6), sharex=True)\n",
      "for i, k in enumerate([5, 6, 7, 8, 9]):\n",
      "    ax[i].stem(topic_word[k,:], linefmt='b-',\n",
      "               markerfmt='bo', basefmt='w-')\n",
      "    ax[i].set_xlim(-10,500)\n",
      "    ax[i].set_ylim(0, 0.2)\n",
      "    ax[i].set_ylabel(\"Prob\")\n",
      "    ax[i].set_title(\"topic {}\".format(k))\n",
      "\n",
      "ax[4].set_xlabel(\"word\")\n",
      "\n",
      "plt.tight_layout()\n",
      "plt.show()"
     ],
     "language": "python",
     "metadata": {},
     "outputs": [],
     "prompt_number": 26
    },
    {
     "cell_type": "code",
     "collapsed": false,
     "input": [
      "##########################################################################################\n",
      "# FIND THE CORRELATION BETWEEN THESE CLUSTERS AND REVIEW POSITIVITY FOR A *LOT* OF MOVIES\n",
      "# I'M CURRENTLY WORKING ON THIS ONE!!!!\n",
      "##########################################################################################\n",
      "\n",
      "#rev_inds: contains all the reviewer indices for reviewers with between 10 and 200 movie reviews.\n",
      "\n",
      "from scipy.stats.stats import pearsonr\n",
      "import matplotlib.pyplot as plt\n",
      "\n",
      "#start with one sample movie...\n",
      "import glob\n",
      "movsentifls = glob.glob(\"./generated_data/movie_sentiments/*_mod\")\n",
      "#make a list of the movies with correlations included\n",
      "reviewed_movinds = []\n",
      "\n",
      "#find the number of points in clusterings with high correlations\n",
      "numpts_highcorr = []\n",
      "numpts_allcorr = []\n",
      "\n",
      "#find sets of points to create scatterplots\n",
      "xvals_highcorr_toplot = []\n",
      "yvals_highcorr_toplot = []\n",
      "\n",
      "## collect all correlations in this list.\n",
      "correlations = []\n",
      "for index in range(len(movsentifls)):\n",
      "    #print movsentifls[index]\n",
      "    f = open(movsentifls[index])\n",
      "    #print f.read()\n",
      "    rev_to_pos_frac = {}\n",
      "    # go through all the movies listed and analyze the ones with a substantial number of reviews.\n",
      "    for line in f:\n",
      "        linearr = line.split(' ')\n",
      "        revind = int(linearr[0])\n",
      "        pos = float(linearr[1])\n",
      "        neg = float(linearr[2])\n",
      "        \n",
      "        #if the reviewer has the right number of reviews, include them in the data structure created above.\n",
      "        if revind in rev_inds:\n",
      "            if (neg + pos) > 0:\n",
      "                rev_to_pos_frac[revind] = pos/(neg+pos)\n",
      "            else:\n",
      "                print \"ZERO SENTIMENT INDICATORS?!\"\n",
      "                continue\n",
      "    \n",
      "    #check how many analyzable reviewers the movie has:\n",
      "    if len(rev_to_pos_frac) < 7:\n",
      "        print \"BAD INSTANCE\"\n",
      "        continue\n",
      "    \n",
      "    #for analysis, make a list of the movies reviewed\n",
      "    reviewed_movinds += [index]\n",
      "    \n",
      "    #just to test out the statistic, repeat while graphing.\n",
      "    for group in range(10):\n",
      "        #find the correlation between the group and the positivity\n",
      "        reviewers = rev_to_pos_frac.keys()\n",
      "        yvals = [rev_to_pos_frac[r] for r in reviewers]\n",
      "        xvals = [doc_topic[revind_order[r], group] for r in reviewers]\n",
      "        keep_inds = [ind for ind in range(len(xvals)) if xvals[ind] > 0.05]\n",
      "        #if too few points, don't need to analyze\n",
      "        if len(keep_inds) < 4:\n",
      "            correlations += [(0, 0)]\n",
      "            continue\n",
      "        else:\n",
      "            #now, eliminate a subset of the x and y values\n",
      "            yvals = [yvals[ind] for ind in keep_inds]\n",
      "            xvals = [xvals[ind] for ind in keep_inds]\n",
      "            correlation = pearsonr(xvals, yvals)\n",
      "            correlations += [correlation]\n",
      "            #see the number of movies in high correlations\n",
      "            numpts_allcorr += [len(xvals)]\n",
      "            if correlation[0] > 0.6:\n",
      "                #print len(xvals)\n",
      "                numpts_highcorr += [len(xvals)]\n",
      "                xvals_highcorr_toplot += [xvals]\n",
      "                yvals_highcorr_toplot += [yvals]\n",
      "\n",
      "print len(correlations)\n",
      "\n",
      "#### TO DO: 1) FINISH CODING THE LOOP; 2) FIGURE OUT WHAT THE HECK THE PEARSONR METHOD IS RETURNING.\n",
      "#### 3) RUN THIS AFTER RUNNING LDA."
     ],
     "language": "python",
     "metadata": {},
     "outputs": [
      {
       "output_type": "stream",
       "stream": "stdout",
       "text": [
        "BAD INSTANCE\n",
        "BAD INSTANCE\n",
        "BAD INSTANCE\n",
        "BAD INSTANCE\n",
        "BAD INSTANCE\n",
        "BAD INSTANCE\n",
        "BAD INSTANCE"
       ]
      },
      {
       "output_type": "stream",
       "stream": "stdout",
       "text": [
        "\n",
        "BAD INSTANCE\n",
        "BAD INSTANCE\n",
        "ZERO SENTIMENT INDICATORS?!\n",
        "BAD INSTANCE\n",
        "BAD INSTANCE\n",
        "BAD INSTANCE\n",
        "BAD INSTANCE"
       ]
      },
      {
       "output_type": "stream",
       "stream": "stdout",
       "text": [
        "\n",
        "BAD INSTANCE\n",
        "ZERO SENTIMENT INDICATORS?!\n",
        "ZERO SENTIMENT INDICATORS?!\n",
        "BAD INSTANCE\n",
        "BAD INSTANCE"
       ]
      },
      {
       "output_type": "stream",
       "stream": "stdout",
       "text": [
        "\n",
        "ZERO SENTIMENT INDICATORS?!\n",
        "BAD INSTANCE\n",
        "BAD INSTANCE\n",
        "BAD INSTANCE\n",
        "BAD INSTANCE\n",
        "BAD INSTANCE\n",
        "BAD INSTANCE\n",
        "BAD INSTANCE\n",
        "BAD INSTANCE\n",
        "BAD INSTANCE"
       ]
      },
      {
       "output_type": "stream",
       "stream": "stdout",
       "text": [
        "\n",
        "BAD INSTANCE\n",
        "BAD INSTANCE\n",
        "BAD INSTANCE\n",
        "BAD INSTANCE\n",
        "BAD INSTANCE\n",
        "BAD INSTANCE\n",
        "ZERO SENTIMENT INDICATORS?!\n",
        "BAD INSTANCE\n",
        "BAD INSTANCE\n",
        "2280\n"
       ]
      }
     ],
     "prompt_number": 89
    },
    {
     "cell_type": "code",
     "collapsed": false,
     "input": [
      "import matplotlib.pyplot as plt\n",
      "import matplotlib\n",
      "%matplotlib inline\n",
      "\n",
      "print len(correlations)\n",
      "\n",
      "#now that the correlations have been calculated, find statistics about them (and cross fingers)\n",
      "corr_mags = [corr[0] for corr in correlations]\n",
      "#print corr_mags\n",
      "corr_ints = [int(corr*100) for corr in corr_mags]\n",
      "print corr_ints\n",
      "\n",
      "plt.hist(corr_ints, 30)\n",
      "plt.title(\"histogram of correlations between lda topics and sentiment\")"
     ],
     "language": "python",
     "metadata": {},
     "outputs": [
      {
       "output_type": "stream",
       "stream": "stdout",
       "text": [
        "2280\n",
        "[34, 61, -12, 0, 0, 60, 0, -56, 28, -16, -11, -68, -15, 35, -85, 5, 0, 47, -41, 5, -26, 65, 0, -45, -88, 63, 0, -47, -32, -25, 15, 12, 26, 3, 28, -33, -72, -24, 14, -12, -76, -26, 43, -18, 0, -32, 0, 11, -35, 69, 7, -40, -10, -15, 0, 41, 0, -22, 34, -57, -4, 68, 50, 11, 76, 29, -5, -16, 9, -54, -25, 51, -7, -6, -13, 18, 0, -29, 34, -19, -25, -19, 12, 4, 22, 32, 0, -30, -32, -49, 64, 34, 61, 4, 45, -19, 0, -23, 26, -46, -25, -60, -13, 33, -60, -53, 0, 7, 7, 36, -48, 12, 19, 26, 31, 21, 34, -21, 8, -54, 4, 28, -9, 65, 58, -63, 0, -40, 22, 11, -14, -58, 15, -87, 0, 9, 0, 50, 5, 11, 17, 0, 62, 53, 0, 28, 0, 0, 8, 27, -59, 2, -5, 13, 24, 20, 0, 1, 19, -21, 0, 66, 22, 66, 0, 41, 7, -31, 34, -48, 6, 41, 47, -17, 62, -54, 35, -10, 25, -2, 38, 4, -9, -25, -47, 9, 0, -29, 24, -31, 0, 52, 58, -85, 0, -26, 12, -56, 2, 31, -15, 0, 9, -82, 0, -7, 0, -61, 45, -62, -28, 40, 34, -67, 0, 2, -40, 25, 3, 1, -35, 80, -59, 16, 37, -60, 0, -47, 71, 2, -47, 23, 64, -61, 8, 58, -21, -20, 8, 52, 0, 0, -99, -36, 0, -93, 0, -19, -42, 0, -60, 0, -62, -67, 0, -62, 0, 15, 35, -42, 38, 0, 7, 12, -3, -45, 0, 61, 12, -75, 78, -12, 10, -13, -76, 17, 0, -50, -6, -53, 0, -7, 36, -66, 0, -74, 0, 20, -33, 25, -17, 18, 16, 46, -55, 16, -98, -40, 10, -44, -15, 60, 4, -25, 0, 1, 0, -63, 25, 13, 9, 45, -44, 19, 0, 33, 47, -58, 16, -35, 5, 8, 25, -7, 32, -2, -49, 0, -13, -8, -39, -6, 45, 6, 0, -23, -61, -28, 49, 66, -31, 15, -41, 36, 0, 0, 0, 13, 31, -14, -66, -12, 24, -27, 0, -26, 0, -72, 66, 1, -53, 27, -32, 38, 25, 27, 0, 36, 11, -22, 48, 44, 38, 58, 48, -1, 0, 18, 31, -71, 0, 0, -28, 16, 8, 21, 3, 12, -14, 10, 41, 51, 61, -21, 94, -36, 0, -2, -15, -63, -26, 49, -29, 20, 25, 0, -36, -17, 10, -55, -80, 59, 40, -34, 0, 24, 0, -73, 35, -14, 6, -2, 40, -26, -3, 6, 46, -12, 34, -33, 18, 16, 62, 7, 0, 7, 0, -45, -52, -40, 1, 93, 24, 79, -10, 50, 0, -32, -25, -17, 10, 0, -38, 44, 0, -9, 0, 6, -4, -15, -9, 49, 30, 18, 0, -7, 6, -23, 2, 48, 61, -23, 62, 21, 0, 24, -54, -57, -33, 12, 53, 54, 15, -20, 0, 21, 0, -42, 18, -52, -23, 48, -48, 24, 0, 10, -3, -5, -9, 38, -56, 66, 23, 0, 20, 19, 0, 31, -28, 30, 86, -38, -85, 59, 0, -81, 0, 37, -66, -56, 53, 86, 20, 26, 0, -12, 0, 32, -49, -22, 2, 25, 65, 70, 0, 18, 0, -73, 16, -41, -5, 57, -20, -20, 0, 5, 0, 14, -30, -33, -34, 39, 37, 37, 0, 33, 0, -12, -14, -57, 80, -55, -33, 24, -81, 75, 0, 7, 37, 27, 10, 66, -38, 36, -75, 25, 0, -1, 14, 10, 16, -39, 20, 24, 0, -9, 0, -53, 64, -49, 16, -28, 5, 29, 0, 0, 0, -36, 12, -21, -3, -15, -54, -55, 0, -67, -32, -4, 54, -49, 76, 0, 76, 0, -38, 22, 0, -80, -1, -2, -25, 30, 81, -20, 52, -4, 0, 2, 31, -10, -71, -29, 0, 31, 0, 17, 0, 67, 3, -89, -47, -22, -8, 28, 0, 57, 0, -49, 0, 6, 7, 0, 51, 0, -15, 0, 0, -9, -49, 21, 10, -43, 57, 64, 0, 60, 0, -48, 35, -49, 9, 18, 39, 41, 0, 12, -2, -48, 5, 2, -8, 41, -43, -32, 84, 8, -82, 3, -2, -6, 21, 90, -28, -23, 0, 28, 0, 46, -58, -28, -33, -40, -18, 64, 0, 25, 0, 53, 6, -54, 24, 22, 22, 10, 80, 6, 0, -57, 50, -44, -24, 83, 14, 50, 0, 45, 0, -40, 15, -27, -6, 40, 39, -28, -6, 27, 0, -59, 28, -9, 28, 59, 30, -16, 67, 4, -47, -8, 7, -25, 54, 10, 35, -12, 83, -20, 0, 17, -4, -40, -42, 46, -29, -15, 53, -13, 0, 31, 9, -31, 39, -24, 37, 63, -75, 55, -15, -59, -8, -23, -52, 63, 36, 0, 35, 48, 0, -67, 70, 1, 24, -3, 28, 10, -41, -10, 0, -8, 7, -43, -73, 66, 53, -7, 0, 33, 0, -14, 41, -41, -43, -2, 43, 17, -11, -31, 0, -23, 39, 53, 1, -4, -34, 1, -80, -17, -29, -24, -17, 21, -39, -46, -5, 0, 0, 26, 0, 28, -59, 50, 24, 28, 79, -27, -66, 44, 0, -30, -33, -62, -37, -32, -12, -18, -55, -2, -18, 0, -23, 44, 0, 19, -20, 18, 9, 11, 0, -29, 48, -26, -62, 77, -10, -56, 0, 41, -33, -79, 48, -48, 27, -33, -81, -55, 0, -33, 0, -75, 1, -13, 73, -2, 39, 31, 14, -16, 31, -62, 37, -71, -35, 54, 51, -19, 0, -57, 0, 35, 60, -60, -31, 51, 26, -16, 84, -1, -9, -6, 14, 34, 29, -28, -11, -24, -27, -37, 52, -37, 12, 11, 54, 0, 63, -26, 52, 7, 0, -33, 12, -4, -26, 74, 7, -30, -57, 21, 45, -35, 48, -17, -34, -23, 21, -9, 0, -37, 0, -35, 16, 27, -13, 3, -2, 13, 0, 31, 0, -29, -13, -21, 56, 0, 76, 0, 0, -38, 0, 3, -36, 19, -55, 55, 3, 17, 0, 67, 0, -39, 14, -25, 36, 39, 53, -11, 2, 28, 0, -24, -4, -15, 20, -16, 27, 30, 23, -6, 0, -30, 27, 7, 24, 50, -25, 42, -33, 65, 0, 16, -4, -41, 29, 50, 14, 14, 0, -25, -29, -42, -1, 13, 38, 0, 66, 71, 0, 70, 0, -43, -16, -11, -13, -8, 20, 53, 0, 33, 0, 7, -21, 42, -32, 60, -7, 58, 0, -54, 0, -46, 52, -27, 24, 6, 39, 3, 7, 9, -5, -24, 4, 9, -3, -5, -23, -11, -46, 11, 0, -35, 12, 19, -28, 81, 0, -81, 0, -16, 0, -30, 18, -4, -26, -52, 58, 0, 0, -40, 0, -23, 24, 17, 34, 72, 62, 15, 85, -58, 0, -69, 66, 20, 10, -28, 32, -57, -33, 27, 98, 14, -11, -13, 29, 40, -16, 0, 0, -14, 0, 5, -52, 33, 0, 0, -68, 7, 0, -72, 0, -13, 30, -22, 2, -12, -29, -15, -39, -4, -5, -9, 2, 11, -41, 94, 30, -52, 0, 2, 0, 52, 19, -71, -59, 6, 51, -67, 0, -83, 0, 25, 37, 16, -52, -75, 5, 71, -12, 22, -26, -37, 65, -22, -4, 26, -33, 19, 0, 3, 0, -38, 8, -10, -37, 67, -73, -33, 49, -82, 0, 40, 5, 84, -96, -69, 3, -58, 0, 6, 0, 32, 20, -13, -23, -15, 32, 0, -68, -10, 0, 36, -48, 0, 28, 82, 51, 36, 0, 30, 0, -58, -3, 5, 29, 18, 47, 56, 0, -20, 0, -19, 14, -5, 18, -16, 0, -48, -23, 16, 0, 75, -89, -35, -7, -25, 52, -21, 65, -5, -61, -29, -2, -17, -49, 0, 42, -56, 0, -4, 0, -17, 53, -44, -45, 47, 68, -9, 0, 7, 0, 25, 8, -26, 4, -38, -26, 38, 0, 54, 0, 13, -42, -65, -28, 35, -1, 28, 0, -15, 0, 20, 2, -16, 0, 0, -40, 45, 0, 3, 0, -12, 4, -2, 10, -15, -36, 76, -59, 11, 0, -61, 66, -39, 2, 10, 16, 21, 0, 48, 43, -33, 22, -69, -3, -88, 5, -39, 0, -10, 0, 9, -44, 51, 84, -25, 0, -45, -93, -31, 0, -86, -2, 12, -16, -14, 52, -32, 0, 16, 0, -6, -31, -7, -19, 36, -8, 29, -21, 35, 58, -5, 20, -41, 50, 62, 47, -1, 0, -56, 0, -61, 3, -8, -18, 33, 8, 56, 17, 10, -2, -19, -11, 31, -87, -16, 0, 30, 0, 13, 0, -37, 6, -14, 13, -32, -29, -6, 52, -9, 16, -47, 24, -40, 23, 14, -1, 68, -3, 16, 0, -74, 56, -47, 13, -11, 71, -19, 28, 17, 0, 17, 15, -29, -62, -56, 0, -28, 0, 9, 0, -15, 10, 61, 2, 46, 20, -65, 11, 1, 11, -34, 0, -6, 34, 0, 52, 82, -20, -93, 0, 40, -81, 32, 37, 21, -18, -35, 0, -44, 0, 17, -36, 33, 77, -85, 65, 0, -25, 25, -5, -28, -26, 41, -5, 7, -21, 28, 0, 15, 33, -58, 43, 16, 14, -59, -38, 24, 0, -74, 0, -30, 43, -3, 9, 13, 4, 11, 0, 47, 79, 10, -43, -36, 39, -1, 1, 28, 3, -9, 0, -21, -1, -10, 12, 6, -50, 0, 4, 22, 0, 33, -40, -38, 48, -12, 17, -31, 0, 19, 0, -56, 0, -6, 44, -39, 64, 53, 0, 20, 0, -45, -60, -22, 21, 21, 59, -98, 0, -69, 0, -78, 87, -93, 23, 85, 15, -22, -78, -10, 0, 24, -12, -60, 0, 75, -74, 87, 0, -76, 0, 70, -46, 2, -8, 64, 18, 0, 0, -27, 0, -42, 53, -27, -30, 64, 55, -72, 24, -10, 0, 16, -16, 12, 16, -50, 9, 25, 0, -55, 0, -51, 35, 35, -3, 50, 7, -40, -70, 46, 0, -12, -22, 32, 23, -26, -35, 7, 33, -38, -77, -39, 29, 0, 12, 13, 24, 8, -5, 4, 0, -59, 38, -49, -79, 74, 0, -59, 0, -15, 0, 49, 3, 2, -9, -9, 18, 30, 0, -10, 0, -21, 25, 17, -48, -25, 49, 20, 0, -24, 0, -16, 8, 1, 62, 69, 35, 0, 0, 35, 0, -44, 0, -25, -16, 0, -7, 0, 0, 9, 0, 15, -66, -4, -11, -3, 7, 0, 0, 6, 87, -50, 11, -20, -44, 0, 57, -79, -93, 0, 0, -33, 51, 74, 47, -40, -31, 64, 0, 0, 46, -34, -14, -25, 23, 39, 63, 10, -9, 14, 0, -55, 23, 2, 18, 35, 44, -42, 0, 38, -88, -18, -14, -4, -7, -18, -43, 51, -30, -75, -10, -12, 37, -26, -62, 9, -5, 37, 38, -24, 0, 19, 39, -20, 11, -35, 6, 68, -43, 18, 0, -24, -27, 0, -4, 0, -14, -17, -31, 20, 0, -40, 73, -5, 61, 14, -7, 98, 0, 69, 0, 28, 3, 7, 15, 27, -34, 21, 92, 0, -1, -27, -12, -28, -26, 15, -13, 90, 0, 32, 0, 4, -27, -49, 69, -22, 55, -2, -21, -16, 0, 5, -12, -1, 11, 22, -83, 57, 0, 56, 0, 17, -36, 68, 19, 41, -1, -4, 0, 22, 0, 27, 24, -8, 0, 59, -7, -70, 15, -16, 0, -22, 73, -48, -11, 46, 34, 27, -25, -14, 0, 18, 13, -46, 4, 20, 56, 13, -80, 38, -78, -2, 7, -35, -27, -68, -26, 29, 0, 33, 0, 8, -23, 60, -60, -1, -1, 45, 0, 2, 0, 46, 15, -8, 57, 77, -3, 67, 0, 21, 0, -26, -11, -67, -50, 23, 14, 33, 43, 2, 3, 11, 14, 8, 57, 0, -64, -57, -35, -41, -96, -10, 4, -35, -29, 31, -52, 34, 12, -41, -41, -17, 9, 24, -15, 50, -11, -67, 0, -12, 0, -26, 12, -2, -11, 32, 29, -44, 0, 27, -61, -51, 43, -43, -18, -23, 30, -20, -6, -27, 45, -35, 49, 24, 0, 29, 19, 0, 0, 65, 0, 46, -50, 4, -98, 36, -54, -6, 36, -51, 89, -8, 40, -22, -20, 95, 46, 0, 0, -11, 0, -4, 5, -45, 32, 0, -7, -24, -33, -4, 39, -15, 30, 29, 91, 0, 63, 81, 6, -40, 0, -40, -15, -40, 5, -48, 40, 68, 0, -2, 0, -8, -2, -9, -9, -23, -17, 4, -72, 30, 0, -69, 43, 3, 1, 9, -13, -31, -50, 24, -82, -7, 15, -74, 13, 31, 57, -35, 0, 11, 0, -82, 24, -27, 51, -43, 89, -56, 0, -44, -21, -44, 63, -37, -15, -71, -33, -36, 0, -77, 0, -56, 16, 56, -12, 81, -9, 0, 0, 5, 0, -28, 46, -84, 13, 26, -1, 26, 3, -8, 0, -58, 80, 16, -12, 5, 34, -36, 0, 55, -35, -4, -1, 19, -22, 4, 83, -34, 0, 47, 0, 33, -13, -45, -12, -22, 20, 26, 63, -21, 0, -35, 57, -44, -62, -1, 21, -10, 54, -11, 0, 25, 51, -39, -30, 35, -87, -25, 0, 29, 0, 29, 17, -13, -61, 28, -12, -90, -12, 11, 0, 1, -13, 11, 2, 16, 78, -7, 0, 21, 0, 18, 27, -39, -50, -11, 15, -17, -54, 31, 0, -18, 49, 12, 45, 59, 67, 16, 0, -11, 0, -59, -27, 16, 44, 68, 49, 35, 0, -46, 0, -51, 6, 75, 5, 41, -11, 2, -55, 9, -87, -11, 6, -24, 0, 73, 82, -95, 0, -17, 0, 63, -57, 9, 59, 84, -7, 33, 99, -6, 0, 29, 0, 32, 79, -30, -39, -20, 0, 4, 0, -47, -12, 0, -31, 81, 19, -39, 0, 22, 0, -26, -23, 43, -1, -52, -32, -84, 0, -68, 0, 12, 7, -36, -5, 0, -8, 1, 0, 82, 0, -69, 27, 42, -50, -9, -5, 63, 35, 12, 53, -17, 52, -39, 4, 75, 28, 44, -11, 0, 0, 27, -48, 22]\n"
       ]
      },
      {
       "metadata": {},
       "output_type": "pyout",
       "prompt_number": 58,
       "text": [
        "<matplotlib.text.Text at 0x7fc7f293f4d0>"
       ]
      },
      {
       "metadata": {},
       "output_type": "display_data",
       "png": "[encoded data removed]",
       "text": [
        "<matplotlib.figure.Figure at 0x7fc7f39964d0>"
       ]
      }
     ],
     "prompt_number": 58
    },
    {
     "cell_type": "code",
     "collapsed": false,
     "input": [
      "# Looks OK; R values are not too low I think? There is a correlation greater than 70 for 7% of all axes...\n",
      "stats_corrsizes = [corr for corr in corr_ints if abs(corr) > 69]\n",
      "print stats_corrsizes\n",
      "print float(len(stats_corrsizes)) / len(corr_ints)"
     ],
     "language": "python",
     "metadata": {},
     "outputs": [
      {
       "output_type": "stream",
       "stream": "stdout",
       "text": [
        "[-85, -88, -72, -76, 76, -87, -85, -82, 80, 71, -99, -93, -75, 78, -76, -74, -98, -72, -71, 94, -80, -73, 93, 79, 86, -85, -81, 86, 70, -73, 80, -81, 75, -75, 76, 76, -80, 81, -71, -89, 84, -82, 90, 80, 83, 83, -75, 70, -73, -80, 79, 77, -79, -81, -75, 73, -71, 84, 74, 76, 71, 70, 81, -81, 72, 85, 98, -72, 94, -71, -83, -75, 71, -73, -82, 84, -96, 82, 75, -89, 76, -88, 84, -93, -86, -87, -74, 71, 82, -93, -81, 77, -85, -74, 79, -98, -78, 87, -93, 85, -78, 75, -74, 87, -76, 70, -72, -70, -77, -79, 74, 87, -79, -93, 74, -88, -75, 73, 98, 92, 90, -83, -70, 73, -80, -78, 77, -96, -98, 89, 95, 91, 81, -72, -82, -74, -82, 89, -71, -77, 81, -84, 80, 83, -87, -90, 78, 75, -87, 73, 82, -95, 84, 99, 79, 81, -84, 82, 75]\n",
        "0.0697368421053\n"
       ]
      }
     ],
     "prompt_number": 61
    },
    {
     "cell_type": "code",
     "collapsed": false,
     "input": [
      "# now look at maxima within correlations\n",
      "num_movs = len(corr_ints)/10\n",
      "corrs_sets_10 = [ corr_ints[ (10*i) : (10*i+10) ] for i in range(num_movs)]\n",
      "maxcorrs = []\n",
      "for corrs in corrs_sets_10:\n",
      "    max = 0\n",
      "    for corr in corrs:\n",
      "        if abs(corr) > max:\n",
      "            max = abs(corr)\n",
      "            \n",
      "    maxcorrs += [max]\n",
      "#print maxcorrs\n",
      "\n",
      "plt.hist(maxcorrs, 20)\n",
      "plt.title(\"histogram of maximum correlation value per movie.\")\n",
      "\n",
      "#the results from the above do look OK to me. Now, I think we should verify that the error values aren't too\n",
      "#high and the number of reviews per high correlation aren't too low.\n",
      "highcorr_errors = [corr[1] for corr in correlations if abs(corr[0]) > 0.7]\n",
      "#print highcorr_errors\n",
      "highcorr_errors_int = [int(err * 100) for err in highcorr_errors]\n",
      "plt.hist(highcorr_errors_int, 20)\n",
      "plt.title(\"histogram of stdevs of max correlation values per movie\")\n",
      "\n",
      "#now, find the number of reviews in the movies that produced these correlations?\n",
      "## NOT THE EASIEST STATISTIC TO COMPUTE..."
     ],
     "language": "python",
     "metadata": {},
     "outputs": [
      {
       "metadata": {},
       "output_type": "pyout",
       "prompt_number": 71,
       "text": [
        "<matplotlib.text.Text at 0x7fc7f0fe1d90>"
       ]
      },
      {
       "metadata": {},
       "output_type": "display_data",
       "png": "[encoded data removed]",
       "text": [
        "<matplotlib.figure.Figure at 0x7fc7f1020210>"
       ]
      }
     ],
     "prompt_number": 71
    },
    {
     "cell_type": "code",
     "collapsed": false,
     "input": [
      "#graph the average number of points in high correlations\n",
      "plt.hist(numpts_highcorr, 5)\n",
      "plt.title(\"histogram of stdevs of max correlation values per movie\")\n",
      "\n"
     ],
     "language": "python",
     "metadata": {},
     "outputs": [
      {
       "metadata": {},
       "output_type": "pyout",
       "prompt_number": 87,
       "text": [
        "<matplotlib.text.Text at 0x7fc7e3ca1c10>"
       ]
      },
      {
       "metadata": {},
       "output_type": "display_data",
       "png": "[encoded data removed]",
       "text": [
        "<matplotlib.figure.Figure at 0x7fc7e3d23150>"
       ]
      }
     ],
     "prompt_number": 87
    },
    {
     "cell_type": "code",
     "collapsed": false,
     "input": [
      "#vs. the total number of xvals of any set of points?\n",
      "plt.hist(numpts_allcorr, 6)\n",
      "plt.title(\"histogram of stdevs of max correlation values per movie\")"
     ],
     "language": "python",
     "metadata": {},
     "outputs": [
      {
       "metadata": {},
       "output_type": "pyout",
       "prompt_number": 93,
       "text": [
        "<matplotlib.text.Text at 0x7fc7e3fbe510>"
       ]
      },
      {
       "metadata": {},
       "output_type": "display_data",
       "png": "[encoded data removed]",
       "text": [
        "<matplotlib.figure.Figure at 0x7fc7e36a9d50>"
       ]
      }
     ],
     "prompt_number": 93
    },
    {
     "cell_type": "code",
     "collapsed": false,
     "input": [
      "#Let's try to see the scatter plots we're dealing with?\n",
      "fig = plt.figure()\n",
      "for i in range(16):\n",
      "    cl = fig.add_subplot(4, 4, i)\n",
      "    plt.scatter(xvals_highcorr_toplot[i], yvals_highcorr_toplot[i])\n",
      "\n",
      "plt.show()\n",
      "\n",
      "\"\"\"\n",
      "fig = plt.figure()\n",
      "\n",
      "#first, isolate the documents in each cluster. Then, sum up their word frequencies?\n",
      "for cluster in range(10):\n",
      "    inds = [ind for ind in range(len(labels)) if labels[ind] == cluster]\n",
      "    clvals_freqs = words_freqs[inds,:]\n",
      "    barvals = [sum(words_freqs[:,col]) for col in range(len(words_freqs[1,:]))]\n",
      "    \n",
      "    cl = fig.add_subplot(3, 4, cluster)\n",
      "    graphinds = range(len(barvals))\n",
      "    bars = cl.bar(graphinds, barvals)\n",
      "    \n",
      "plt.show()\n",
      "\"\"\""
     ],
     "language": "python",
     "metadata": {},
     "outputs": [
      {
       "metadata": {},
       "output_type": "display_data",
       "png": "[encoded data removed]",
       "text": [
        "<matplotlib.figure.Figure at 0x7fc7e3b703d0>"
       ]
      },
      {
       "metadata": {},
       "output_type": "pyout",
       "prompt_number": 91,
       "text": [
        "'\\nfig = plt.figure()\\n\\n#first, isolate the documents in each cluster. Then, sum up their word frequencies?\\nfor cluster in range(10):\\n    inds = [ind for ind in range(len(labels)) if labels[ind] == cluster]\\n    clvals_freqs = words_freqs[inds,:]\\n    barvals = [sum(words_freqs[:,col]) for col in range(len(words_freqs[1,:]))]\\n    \\n    cl = fig.add_subplot(3, 4, cluster)\\n    graphinds = range(len(barvals))\\n    bars = cl.bar(graphinds, barvals)\\n    \\nplt.show()\\n'"
       ]
      }
     ],
     "prompt_number": 91
    },
    {
     "cell_type": "code",
     "collapsed": false,
     "input": [
      "################################################################################\n",
      "# THIS CELL IS MEANT TO (FOR ONE MOVIE) GRAPH THE CORRELATION BETWEEN LDA \n",
      "# TOPICS AND THE MOVIE'S REVIEW POSITIVITY.\n",
      "################################################################################\n",
      "\n",
      "#Plot the positivity / negativity of the review vs. the reviewer's LDA topics.\n",
      "movieno = 3619 #should be able to just change this and generate new graphs\n",
      "\n",
      "#get document vs. topic probabilities\n",
      "doc_topic = model.doc_topic_\n",
      "\n",
      "#create a data structure of reviewer index vs. positivity\n",
      "f = open(\"res_\"+str(movieno)+\"_mod\", \"r\")\n",
      "revno_sentiment = {}\n",
      "for line in f:\n",
      "    linearr = line.split(' ')\n",
      "    revno = int(linearr[0])\n",
      "    pos = float(linearr[1])\n",
      "    neg = float(linearr[2])\n",
      "    revno_sentiment[revno] = pos / (pos+neg)\n",
      "    \n",
      "revs_tocluster = [key for key in revno_sentiment.keys() if key in rev_inds]\n",
      "rev_sent_tocluster = [int(100*revno_sentiment[rev]) for rev in revs_tocluster]\n",
      "print revs_tocluster\n",
      "print rev_sent_tocluster\n",
      "inds_tocluster = [revind_order[revno] for revno in revs_tocluster]\n",
      "print inds_tocluster\n",
      "print [rev_inds[ind] for ind in inds_tocluster]\n",
      "\n",
      "#now, graph this against their probabilities. Before we can do this however, we need an inference method\n",
      "#http://stats.stackexchange.com/questions/9315/topic-prediction-using-latent-dirichlet-allocation [TRY TO\n",
      "# IMPLEMENT THIS ON TUESDAY / LATER!!!]\n",
      "import matplotlib.pyplot as plt\n",
      "fig = plt.figure()\n",
      "for group in range(10):\n",
      "    xvals = doc_topic[inds_tocluster, group] #the group probabilities are on the x axis\n",
      "    yvals = rev_sent_tocluster\n",
      "    cl = fig.add_subplot(5, 2, group)\n",
      "    cl.scatter(xvals, yvals)\n",
      "plt.show()\n",
      "    "
     ],
     "language": "python",
     "metadata": {},
     "outputs": [
      {
       "output_type": "stream",
       "stream": "stdout",
       "text": [
        "[258, 515, 1031, 10, 535, 781, 115, 657, 1045, 1046, 1432, 1441, 546, 421, 563, 1545, 312, 185, 1213, 693, 71, 592, 977, 416, 1493, 1111, 860, 993, 488, 1002, 493, 1006, 1265, 760, 1018, 864]\n",
        "[62, 56, 61, 61, 69, 66, 62, 71, 66, 57, 50, 58, 72, 65, 64, 62, 55, 68, 44, 67, 61, 59, 61, 76, 62, 70, 72, 36, 64, 67, 57, 58, 62, 59, 63, 69]\n",
        "[30, 60, 129, 2, 62, 99, 15, 78, 130, 131, 172, 174, 64, 48, 65, 186, 38, 25, 150, 87, 9, 70, 120, 46, 181, 138, 110, 122, 55, 123, 58, 124, 156, 94, 127, 111]\n",
        "[258, 515, 1031, 10, 535, 781, 115, 657, 1045, 1046, 1432, 1441, 546, 421, 563, 1545, 312, 185, 1213, 693, 71, 592, 977, 416, 1493, 1111, 860, 993, 488, 1002, 493, 1006, 1265, 760, 1018, 864]\n"
       ]
      }
     ],
     "prompt_number": 28
    },
    {
     "cell_type": "code",
     "collapsed": false,
     "input": [
      "import matplotlib.pyplot as plt\n",
      "x = [1, 2, 3, 4]\n",
      "y = [44, 5, 3, 23]\n",
      "plt.scatter(x,y)\n",
      "plt.show()"
     ],
     "language": "python",
     "metadata": {},
     "outputs": [],
     "prompt_number": 27
    },
    {
     "cell_type": "code",
     "collapsed": false,
     "input": [
      "###################################################################################\n",
      "####### CLUSTERING DOCUMENTS BASED ON LDA PROBABILITY COMBOS FROM HERE DOWN #######\n",
      "####### THIS STEP MAY BE COMPLETELY UNNECESSARY ###################################\n",
      "\n",
      "#Now, we want to try clustering documents according to their lda probabilities.\n",
      "\n",
      "#Initially, will try to use MeanShift clustering [UPDATE: MEANSHIFT CLUSTERING DOESN'T WORK WELL AT ALL.]\n",
      "\n",
      "import sklearn.cluster\n",
      "from sklearn.cluster import KMeans\n",
      "import sys\n",
      "\n",
      "#import data from the model\n",
      "doc_topic = model.doc_topic_\n",
      "\n",
      "#MeanShift clustering sounded good in theory, but didn't work.\n",
      "\"\"\"\n",
      "from sklearn.cluster import MeanShift\n",
      "ms = MeanShift(cluster_all = False)\n",
      "labels = ms.fit_predict(doc_topic)\n",
      "#now, check the goodness of clusters\n",
      "print labels\n",
      "\"\"\"\n",
      "\n",
      "#now, try different types of clustering.\n",
      "##cls = KMeans(init=\"k-means++\", n_clusters=10)\n",
      "##labels = cls.fit_predict(doc_topic)\n",
      "##print labels\n",
      "\n",
      "cls = KMeans(init=\"k-means++\", n_clusters=10)\n",
      "labels = cls.fit_predict(doc_topic)\n",
      "print cls.inertia_\n",
      "for i in range(100):\n",
      "    cl_curr = KMeans(init=\"k-means++\", n_clusters=6)\n",
      "    labels = cl_curr.fit_predict(doc_topic)\n",
      "    if cls.inertia_ > cl_curr.inertia_:\n",
      "        cls = cl_curr\n",
      "    if (i%5 == 0):\n",
      "        sys.stdout.write('.')\n",
      "\n",
      "labels = cls.predict(doc_topic\n",
      "print \"\\n\" + str(cls.inertia_)\n",
      "print labels\n",
      "\n",
      "#have to find some way of evaluating information gain here!\n",
      "i = [0]*10\n",
      "for label in labels:\n",
      "    i[label] += 1\n",
      "print i"
     ],
     "language": "python",
     "metadata": {},
     "outputs": [
      {
       "output_type": "stream",
       "stream": "stdout",
       "text": [
        "7.56904189161\n",
        ".."
       ]
      },
      {
       "output_type": "stream",
       "stream": "stdout",
       "text": [
        ".."
       ]
      },
      {
       "output_type": "stream",
       "stream": "stdout",
       "text": [
        ".."
       ]
      },
      {
       "output_type": "stream",
       "stream": "stdout",
       "text": [
        ".."
       ]
      },
      {
       "output_type": "stream",
       "stream": "stdout",
       "text": [
        ".."
       ]
      },
      {
       "output_type": "stream",
       "stream": "stdout",
       "text": [
        ".."
       ]
      },
      {
       "output_type": "stream",
       "stream": "stdout",
       "text": [
        ".."
       ]
      },
      {
       "output_type": "stream",
       "stream": "stdout",
       "text": [
        ".."
       ]
      },
      {
       "output_type": "stream",
       "stream": "stdout",
       "text": [
        ".."
       ]
      },
      {
       "output_type": "stream",
       "stream": "stdout",
       "text": [
        ".."
       ]
      },
      {
       "output_type": "stream",
       "stream": "stdout",
       "text": [
        "\n",
        "7.56904189161\n",
        "[6 5 2 1 3 9 2 5 3 2 1 3 3 5 7 7 3 6 4 0 7 2 4 3 0 3 7 9 3 0 9 6 0 0 2 1 9\n",
        " 3 3 9 5 0 3 0 6 0 7 4 4 6 3 1 2 2 9 9 9 0 9 1 1 7 1 5 0 4 0 6 7 8 6 6 4 6\n",
        " 2 1 6 0 3 3 3 4 5 4 6 7 6 4 7 3 3 4 2 0 1 4 7 1 2 2 9 9 4 5 5 1 7 3 9 1 7\n",
        " 5 5 2 4 2 4 9 7 0 6 5 1 1 3 3 4 7 9 4 2 1 7 7 0 3 9 0 4 3 6 0 4 6 2 6 8 2\n",
        " 6 3 9 5 3 2 0 2 9 2 2 9 9 4 1 2 6 2 9 6 0 3 2 0 3 3 3 7 2 0 7 0 6 6 6 0 9\n",
        " 3 4 8 6 1 3 2 6 3 6 0 1 4 6]\n",
        "[24, 18, 25, 31, 21, 12, 26, 18, 3, 21]\n"
       ]
      }
     ],
     "prompt_number": 11
    },
    {
     "cell_type": "code",
     "collapsed": false,
     "input": [
      "#now, graph the above clusters. We can try graphing the clusters by the words that appear in them, or by \n",
      "#the probabilities of each topic.\n",
      "print doc_topic[1,:]\n",
      "clusters = cls.cluster_centers_\n",
      "fig = plt.figure()\n",
      "clno = 0\n",
      "for cluster in clusters:\n",
      "    # create a bar graph with a value for each of the ten LDA groups.\n",
      "    \n",
      "    cl = fig.add_subplot(3, 4, clno)\n",
      "    graphinds = range(10)\n",
      "    barvals = [int(val * 100) for val in cluster]\n",
      "    barlabs = [\"lda group \" + str(num) for num in range(10)]\n",
      "    \n",
      "    #get all the points we need to create a standard deviation, and find the standard deviation.\n",
      "    clfiles = [i for i in range(len(labels)) if labels[i] == clno] #list of document indicies in given cluster\n",
      "    clvals = doc_topic[clfiles,:]\n",
      "    barsds = []\n",
      "    for val in range(10):\n",
      "        barsds += [numpy.std(clvals[:,val])] #take stdv of column.\n",
      "    \n",
      "    \n",
      "    bars = cl.bar(graphinds, barvals, yerr = barsds)\n",
      "    cl.set_xlim(-.5, 10.5)\n",
      "    cl.set_ylim(0, 100)\n",
      "    \n",
      "    cl.set_xticks(graphinds)\n",
      "    barticks = cl.set_xticklabels(barlabs)\n",
      "    plt.setp(barticks, rotation = 90)\n",
      "    clno += 1\n",
      "    #### LOOP ####\n",
      "\n",
      "\n",
      "plt.show()"
     ],
     "language": "python",
     "metadata": {},
     "outputs": [
      {
       "output_type": "stream",
       "stream": "stdout",
       "text": [
        "[  4.88997555e-05   2.00488998e-03   2.58728606e-01   1.61907090e-01\n",
        "   6.80195599e-02   5.91687042e-03   4.88997555e-05   5.37897311e-04\n",
        "   1.57506112e-01   3.45281174e-01]\n"
       ]
      }
     ],
     "prompt_number": 19
    },
    {
     "cell_type": "code",
     "collapsed": false,
     "input": [
      "#now, try to find word frequencies of groups?\n",
      "clusters = cls.cluster_centers_\n",
      "labels = cls.predict(doc_topic)\n",
      "fig = plt.figure()\n",
      "\n",
      "#first, isolate the documents in each cluster. Then, sum up their word frequencies?\n",
      "for cluster in range(10):\n",
      "    inds = [ind for ind in range(len(labels)) if labels[ind] == cluster]\n",
      "    clvals_freqs = words_freqs[inds,:]\n",
      "    barvals = [sum(words_freqs[:,col]) for col in range(len(words_freqs[1,:]))]\n",
      "    \n",
      "    cl = fig.add_subplot(3, 4, cluster)\n",
      "    graphinds = range(len(barvals))\n",
      "    bars = cl.bar(graphinds, barvals)\n",
      "    \n",
      "plt.show()\n",
      "\n",
      "#While this is an interesting graphic, it doesn't help much with the problem of how to visualize these results.\n",
      "#Perhaps adding up the probabilities would help?\n",
      "\n",
      "#Or, perhaps looking at the relative distributions of words would help."
     ],
     "language": "python",
     "metadata": {},
     "outputs": [
      {
       "output_type": "stream",
       "stream": "stdout",
       "text": [
        "[5, 27, 30, 36, 39, 54, 55, 56, 58, 100, 101, 108, 117, 128, 136, 150, 156, 159, 160, 166, 184]\n"
       ]
      }
     ],
     "prompt_number": 23
    },
    {
     "cell_type": "code",
     "collapsed": false,
     "input": [
      "print cls.cluster_centers_"
     ],
     "language": "python",
     "metadata": {},
     "outputs": [
      {
       "output_type": "stream",
       "stream": "stdout",
       "text": [
        "[[  1.34266301e-01   5.47442530e-02   3.66199730e-02   1.45901934e-02\n",
        "    1.55825839e-01   2.39307208e-02   2.28698673e-02   1.15903840e-01\n",
        "    4.02651347e-01   3.85976659e-02]\n",
        " [  3.19125872e-02   2.02726041e-01   1.30587122e-01   9.83676241e-02\n",
        "    8.16765066e-02   1.11534076e-01   9.42954461e-02   6.46055561e-02\n",
        "    4.44835422e-02   1.39811500e-01]\n",
        " [  5.72312505e-02   3.43163626e-02   8.83620990e-02   3.68322159e-02\n",
        "    1.36125978e-01   6.04894075e-02   7.42915681e-02   9.32073450e-02\n",
        "    2.23529657e-01   1.95614116e-01]\n",
        " [  9.62154828e-02   3.04311085e-02   9.84019488e-02   5.10575264e-02\n",
        "    2.08728273e-01   7.07727530e-02   7.60024399e-02   1.48065802e-01\n",
        "    1.93450387e-01   2.68742787e-02]\n",
        " [  1.17950204e-01   6.01891968e-02   8.29747993e-02   4.87589194e-02\n",
        "    1.11030123e-01   1.09627029e-01   4.63137848e-02   2.74886949e-01\n",
        "    4.16503205e-02   1.06618674e-01]\n",
        " [  5.81925798e-02   1.15191793e-02   2.81778482e-01   3.23449056e-02\n",
        "    8.39322741e-02   4.91989677e-02   5.56502393e-02   1.30463344e-02\n",
        "    2.12504806e-01   2.01832232e-01]\n",
        " [  1.59335256e-01   5.33660100e-02   2.64659821e-01   4.97527986e-02\n",
        "    5.81119260e-02   1.11969268e-01   5.45151010e-02   1.16822749e-01\n",
        "    1.15945654e-01   1.55214173e-02]\n",
        " [  6.00794707e-02   2.93301275e-02   9.56632565e-02   5.13014664e-02\n",
        "    1.30002177e-01   1.45424916e-01   2.14387026e-01   8.76348604e-02\n",
        "    1.02340414e-01   8.38362856e-02]\n",
        " [  5.27608704e-02   5.26009773e-02   4.00225029e-02   4.85465702e-01\n",
        "    1.35808622e-01   5.96892723e-02   2.29919988e-02   9.81397493e-02\n",
        "    5.23735817e-02   1.46723632e-04]\n",
        " [  3.72245892e-02   7.66770731e-02   1.87487809e-01   6.34948500e-02\n",
        "    4.34837492e-02   8.30935124e-02   7.54682807e-02   1.11659673e-01\n",
        "    2.02347780e-02   3.01175686e-01]]\n"
       ]
      }
     ],
     "prompt_number": 14
    }
   ],
   "metadata": {}
  }
 ]
}